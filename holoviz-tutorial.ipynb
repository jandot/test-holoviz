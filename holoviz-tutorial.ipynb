{
 "cells": [
  {
   "cell_type": "markdown",
   "metadata": {},
   "source": [
    "![holoviz logo](https://holoviz.org/assets/holoviz-logo-stacked.svg)\n",
    "\n",
    "In this tutorial, we will look into using [HoloViz](https://holoviz.org/index.html) in the specific context of using it in combination with Vega-Lite and Vega for data visualisation from python.\n",
    "\n",
    "HoloViz brings together a group of tools to simplifies visualisation in python. These tools are:\n",
    "\n",
    "- [Panel](https://panel.holoviz.org/), which we’ll use for building dashboards\n",
    "- [HoloViews](https://holoviews.org/), which makes it possible to very quickly create data visualisation\n",
    "- [hvPlot](https://hvplot.holoviz.org/) is a high-level plotting API built on HoloViews\n",
    "- [GeoViews](http://geoviews.org/), which extends HoloViews for geographic data\n",
    "- [Datashader](https://datashader.org/), which allows rendering huge datasets\n",
    "- [Param](https://param.holoviz.org/), which helps to create user-configurable objects\n",
    "- [Colorcet](https://colorcet.holoviz.org/), which defines perceptually uniform colormaps.\n",
    "\n",
    "We’ll be using Panel and Param in this tutorial, within the context of [jupyter notebooks](https://jupyter.org/).\n",
    "\n",
    "Much of this tutorial is based on the excellent tutorial given by James Bednar available at https://www.youtube.com/watch?v=7deGS4IPAQ0."
   ]
  },
  {
   "cell_type": "markdown",
   "metadata": {
    "heading_collapsed": true
   },
   "source": [
    "# A minimal vega plot"
   ]
  },
  {
   "cell_type": "markdown",
   "metadata": {
    "hidden": true
   },
   "source": [
    "As a proof-of-principle, let’s recreate the very first plot we made in the VegaLite tutorial: the simple barchart.\n",
    "\n",
    "## Loading the necessary libraries\n",
    "First things first: loading the necessary libraries. Make sure that these are installed first (see the previous step)."
   ]
  },
  {
   "cell_type": "code",
   "execution_count": null,
   "metadata": {
    "hidden": true
   },
   "outputs": [],
   "source": [
    "from vega import Vega"
   ]
  },
  {
   "cell_type": "markdown",
   "metadata": {
    "hidden": true
   },
   "source": [
    "At this point we won’t need `panel` and/or `param` yet."
   ]
  },
  {
   "cell_type": "markdown",
   "metadata": {
    "hidden": true
   },
   "source": [
    "## Creating the specification\n",
    "We’ll just put the whole specification in a variable that we call spec."
   ]
  },
  {
   "cell_type": "code",
   "execution_count": null,
   "metadata": {
    "hidden": true
   },
   "outputs": [],
   "source": [
    "spec = {\n",
    "    \"$schema\": \"https://vega.github.io/schema/vega-lite/v4.json\",\n",
    "    \"description\": \"A simple bar chart with embedded data.\",\n",
    "    \"data\": {\n",
    "      \"values\": [\n",
    "        {\"a\": \"A\", \"b\": 28},\n",
    "        {\"a\": \"B\", \"b\": 55},\n",
    "        {\"a\": \"C\", \"b\": 43},\n",
    "        {\"a\": \"D\", \"b\": 91}\n",
    "      ]\n",
    "    },\n",
    "    \"mark\": \"bar\",\n",
    "    \"encoding\": {\n",
    "      \"x\": {\"field\": \"b\", \"type\": \"quantitative\"},\n",
    "      \"y\": {\"field\": \"a\", \"type\": \"nominal\"}\n",
    "    }\n",
    "  }\n"
   ]
  },
  {
   "cell_type": "markdown",
   "metadata": {
    "hidden": true
   },
   "source": [
    "## Drawing the visualisation\n",
    "And finally we call the `Vega()` function, passing it the spec as an argument. This will give us the actual plot."
   ]
  },
  {
   "cell_type": "code",
   "execution_count": null,
   "metadata": {
    "hidden": true
   },
   "outputs": [],
   "source": [
    "Vega(spec)"
   ]
  },
  {
   "cell_type": "markdown",
   "metadata": {
    "heading_collapsed": true
   },
   "source": [
    "# Splitting the specification"
   ]
  },
  {
   "cell_type": "markdown",
   "metadata": {
    "hidden": true
   },
   "source": [
    "In the previous step, we created a variable spec that contained the complete specification for the plot. One of the reasons we’re looking into using jupyter notebooks instead of the online vega editor, is that we can make a very long specification more manageable by splitting it up: we can extract different parts of the spec into separate variables."
   ]
  },
  {
   "cell_type": "markdown",
   "metadata": {
    "hidden": true
   },
   "source": [
    "## A simple example\n",
    "Let’s extract the dataset itself into a separate variable:"
   ]
  },
  {
   "cell_type": "code",
   "execution_count": null,
   "metadata": {
    "hidden": true
   },
   "outputs": [],
   "source": [
    "d = { \"values\":\n",
    "          [ {\"a\": \"A\", \"b\": 28},\n",
    "            {\"a\": \"B\", \"b\": 55},\n",
    "            {\"a\": \"C\", \"b\": 43},\n",
    "            {\"a\": \"D\", \"b\": 91} ]\n",
    "        }"
   ]
  },
  {
   "cell_type": "markdown",
   "metadata": {
    "hidden": true
   },
   "source": [
    "… and replace the dataset in the specification with that variable:"
   ]
  },
  {
   "cell_type": "code",
   "execution_count": null,
   "metadata": {
    "hidden": true
   },
   "outputs": [],
   "source": [
    "spec = {\n",
    "    \"$schema\": \"https://vega.github.io/schema/vega-lite/v4.json\",\n",
    "    \"description\": \"A simple bar chart with embedded data.\",\n",
    "    \"data\": d,\n",
    "    \"mark\": \"bar\",\n",
    "    \"encoding\": {\n",
    "      \"x\": {\"field\": \"b\", \"type\": \"quantitative\"},\n",
    "      \"y\": {\"field\": \"a\", \"type\": \"nominal\"}\n",
    "    }\n",
    "  }"
   ]
  },
  {
   "cell_type": "markdown",
   "metadata": {
    "hidden": true
   },
   "source": [
    "This will have the same result as we had earlier and means that we can build up our dataset within the jupyter notebook and then pass it on to the specification."
   ]
  },
  {
   "cell_type": "markdown",
   "metadata": {
    "hidden": true
   },
   "source": [
    "## A more extensive example\n",
    "Here’s a longer example (from /visualisation-tutorial/vegalite-brushing-and-linking.html) that makes it even more clear that it might be good to create the different sections of the specification separately.\n",
    "\n",
    "The data:"
   ]
  },
  {
   "cell_type": "code",
   "execution_count": null,
   "metadata": {
    "hidden": true
   },
   "outputs": [],
   "source": [
    "cars_dataset = {\n",
    "    \"name\": \"cars\",\n",
    "    \"url\": \"https://raw.githubusercontent.com/vega/vega/master/docs/data/cars.json\",\n",
    "    \"format\": {\"type\": \"json\"}\n",
    "  }"
   ]
  },
  {
   "cell_type": "markdown",
   "metadata": {
    "hidden": true
   },
   "source": [
    "The scales:"
   ]
  },
  {
   "cell_type": "code",
   "execution_count": null,
   "metadata": {
    "hidden": true
   },
   "outputs": [],
   "source": [
    "scales = [\n",
    "  {\n",
    "    \"name\": \"acceleration_xscale\",\n",
    "    \"type\": \"linear\",\n",
    "    \"domain\": {\"data\": \"cars\", \"field\": \"Acceleration\"},\n",
    "    \"range\": [0, 200],\n",
    "    \"nice\": true,\n",
    "    \"zero\": true\n",
    "  },\n",
    "  {\n",
    "    \"name\": \"mpg_yscale\",\n",
    "    \"type\": \"linear\",\n",
    "    \"domain\": {\"data\": \"cars\", \"field\": \"Miles_per_Gallon\"},\n",
    "    \"range\": [200, 0],\n",
    "    \"nice\": true,\n",
    "    \"zero\": true\n",
    "  },\n",
    "  {\n",
    "    \"name\": \"horsepower_xscale\",\n",
    "    \"type\": \"linear\",\n",
    "    \"domain\": {\"data\": \"cars\", \"field\": \"Horsepower\"},\n",
    "    \"range\": [0, 200],\n",
    "    \"nice\": true,\n",
    "    \"zero\": true\n",
    "  }\n",
    "]"
   ]
  },
  {
   "cell_type": "markdown",
   "metadata": {
    "hidden": true
   },
   "source": [
    "This will give you an error, because the true used in the Vega specification is lowercase, while a True in python needs to be capitalised. So we have to change this first:"
   ]
  },
  {
   "cell_type": "code",
   "execution_count": null,
   "metadata": {
    "hidden": true
   },
   "outputs": [],
   "source": [
    "scales = [\n",
    "  {\n",
    "    \"name\": \"acceleration_xscale\",\n",
    "    \"type\": \"linear\",\n",
    "    \"domain\": {\"data\": \"cars\", \"field\": \"Acceleration\"},\n",
    "    \"range\": [0, 200],\n",
    "    \"nice\": True,\n",
    "    \"zero\": True\n",
    "  },\n",
    "  {\n",
    "    \"name\": \"mpg_yscale\",\n",
    "    \"type\": \"linear\",\n",
    "    \"domain\": {\"data\": \"cars\", \"field\": \"Miles_per_Gallon\"},\n",
    "    \"range\": [200, 0],\n",
    "    \"nice\": True,\n",
    "    \"zero\": True\n",
    "  },\n",
    "  {\n",
    "    \"name\": \"horsepower_xscale\",\n",
    "    \"type\": \"linear\",\n",
    "    \"domain\": {\"data\": \"cars\", \"field\": \"Horsepower\"},\n",
    "    \"range\": [0, 200],\n",
    "    \"nice\": True,\n",
    "    \"zero\": True\n",
    "  }\n",
    "]"
   ]
  },
  {
   "cell_type": "markdown",
   "metadata": {
    "hidden": true
   },
   "source": [
    "In all the code below, I’ve already made this change.\n",
    "\n",
    "The axes:"
   ]
  },
  {
   "cell_type": "code",
   "execution_count": null,
   "metadata": {
    "hidden": true
   },
   "outputs": [],
   "source": [
    "mpg_y_axis = {\n",
    "  \"scale\": \"mpg_yscale\",\n",
    "  \"orient\": \"left\",\n",
    "  \"gridScale\": \"mpg_yscale\",\n",
    "  \"grid\": True,\n",
    "  \"tickCount\": 5,\n",
    "  \"title\": \"Miles_per_Gallon\"\n",
    "}\n",
    "\n",
    "acceleration_x_axis = {\n",
    "  \"scale\": \"acceleration_xscale\",\n",
    "  \"orient\": \"bottom\",\n",
    "  \"gridScale\": \"acceleration_xscale\",\n",
    "  \"grid\": True,\n",
    "  \"tickCount\": 5,\n",
    "  \"title\": \"Acceleration\"\n",
    "}\n",
    "\n",
    "horsepower_x_axis = {\n",
    "  \"scale\": \"horsepower_xscale\",\n",
    "  \"orient\": \"bottom\",\n",
    "  \"gridScale\": \"horsepower_xscale\",\n",
    "  \"grid\": True,\n",
    "  \"tickCount\": 5,\n",
    "  \"title\": \"Horse power\"\n",
    "}"
   ]
  },
  {
   "cell_type": "markdown",
   "metadata": {
    "hidden": true
   },
   "source": [
    "The plots themselves:"
   ]
  },
  {
   "cell_type": "code",
   "execution_count": null,
   "metadata": {
    "hidden": true
   },
   "outputs": [],
   "source": [
    "plot1 = {\n",
    "  \"type\": \"group\",\n",
    "  \"encode\": {\n",
    "    \"update\": {\n",
    "      \"width\": {\"value\": 200},\n",
    "      \"height\": {\"value\": 200}\n",
    "    }\n",
    "  },\n",
    "  \"marks\": [\n",
    "    {\n",
    "      \"type\": \"symbol\",\n",
    "      \"style\": \"circle\",\n",
    "      \"from\": {\"data\": \"cars\"},\n",
    "      \"encode\": {\n",
    "        \"update\": {\n",
    "          \"x\": {\"scale\": \"acceleration_xscale\", \"field\": \"Acceleration\"},\n",
    "          \"y\": {\"scale\": \"mpg_yscale\", \"field\": \"Miles_per_Gallon\"},\n",
    "          \"fill\": {\"value\": \"steelblue\"},\n",
    "          \"fillOpacity\": {\"value\": 0.5}\n",
    "        }\n",
    "      }\n",
    "    }\n",
    "  ],\n",
    "  \"axes\": [ mpg_y_axis, acceleration_x_axis ]\n",
    "}\n",
    "\n",
    "plot2 = {\n",
    "  \"type\": \"group\",\n",
    "  \"style\": \"cell\",\n",
    "  \"encode\": {\n",
    "    \"update\": {\n",
    "      \"width\":  {\"value\": 200},\n",
    "      \"height\": {\"value\": 200}\n",
    "    }\n",
    "  },\n",
    "  \"marks\": [\n",
    "    {\n",
    "      \"type\": \"symbol\",\n",
    "      \"style\": \"circle\",\n",
    "      \"from\": {\"data\": \"cars\"},\n",
    "      \"encode\": {\n",
    "        \"enter\": {\n",
    "          \"x\": {\"scale\": \"horsepower_xscale\", \"field\": \"Horsepower\"},\n",
    "          \"y\": {\"scale\": \"mpg_yscale\", \"field\": \"Miles_per_Gallon\"},\n",
    "          \"fill\": {\"value\": \"steelblue\"},\n",
    "          \"fillOpacity\": {\"value\": 0.5}\n",
    "        }\n",
    "      }\n",
    "    }\n",
    "  ],\n",
    "  \"axes\": [ mpg_y_axis, horsepower_x_axis ]\n",
    "}"
   ]
  },
  {
   "cell_type": "markdown",
   "metadata": {
    "hidden": true
   },
   "source": [
    "This makes the final specification much more manageable:"
   ]
  },
  {
   "cell_type": "code",
   "execution_count": null,
   "metadata": {
    "hidden": true
   },
   "outputs": [],
   "source": [
    "spec2 = {\n",
    "  \"$schema\": \"https://vega.github.io/schema/vega/v5.json\",\n",
    "  \"padding\": 5,\n",
    "  \"data\": [ cars_dataset ],\n",
    "  \"scales\": scales,\n",
    "  \"layout\": {\"padding\": 20},\n",
    "  \"marks\": [\n",
    "    plot1,\n",
    "    plot2\n",
    "  ]\n",
    "}"
   ]
  },
  {
   "cell_type": "markdown",
   "metadata": {
    "hidden": true
   },
   "source": [
    "The result is the following plot (that we also created in the vega tutorial)."
   ]
  },
  {
   "cell_type": "code",
   "execution_count": null,
   "metadata": {
    "hidden": true
   },
   "outputs": [],
   "source": [
    "Vega(spec2)"
   ]
  },
  {
   "cell_type": "markdown",
   "metadata": {
    "hidden": true
   },
   "source": [
    "We’ve seen in the debugging section of the Vega tutorial that the online vega editor has some very useful features for writing correct vega code. We don’t have those here, but being able to split up the code in smaller parts can help a lot, and we can build these parts up within the notebook."
   ]
  },
  {
   "cell_type": "markdown",
   "metadata": {
    "heading_collapsed": true
   },
   "source": [
    "# What is panel?"
   ]
  },
  {
   "cell_type": "markdown",
   "metadata": {
    "hidden": true
   },
   "source": [
    "The Panel library adds functionality to jupyter notebook for quickly and easily building interactive dashboards. There are 2 main concepts:\n",
    "\n",
    "- panel = a container of things\n",
    "- pane = one of these things. This could also be a widget.\n",
    "\n",
    "In the image below, the red rectangle is the “panel” and the green ones are “panes”.\n",
    "\n",
    "![panel and pane](https://vda-lab.github.io/visualisation-tutorial/assets/panel-with-panes.png)"
   ]
  },
  {
   "cell_type": "markdown",
   "metadata": {
    "hidden": true
   },
   "source": [
    "## Setting things up\n",
    "You’ll have installed panel as instructed above. To load it into jupyter notebook, run"
   ]
  },
  {
   "cell_type": "code",
   "execution_count": null,
   "metadata": {
    "hidden": true
   },
   "outputs": [],
   "source": [
    "import panel as pn\n",
    "pn.extension()"
   ]
  },
  {
   "cell_type": "markdown",
   "metadata": {
    "hidden": true
   },
   "source": [
    "Proof-of-principle: we can now create a simple panel like this:"
   ]
  },
  {
   "cell_type": "code",
   "execution_count": null,
   "metadata": {
    "hidden": true
   },
   "outputs": [],
   "source": [
    "pn.pane.Markdown(\"# This is a markdown title\")"
   ]
  },
  {
   "cell_type": "markdown",
   "metadata": {
    "hidden": true
   },
   "source": [
    "This should show a title."
   ]
  },
  {
   "cell_type": "markdown",
   "metadata": {
    "hidden": true
   },
   "source": [
    "## What are the different types of panes?\n",
    "Just using markdown does not seem that interesting, but we can put other stuff in a pane as well, like images, vega code(!), etc. To find out what you can use, type `pn.pane.` and then a tab. This will show you all possibilities: `bokeh`, `dataframe`, `gif`, `html`, `image`, `latex`, `plotly`, `svg`, `video`, `vtk`, etc."
   ]
  },
  {
   "cell_type": "markdown",
   "metadata": {
    "hidden": true
   },
   "source": [
    "## Panel and Google Colaboratory\n",
    "Google Colaboratory is a great way to use jupyter notebooks. Access them through http://colab.research.google.com or straight from your google drive. Unfortunately, there are some quirks to take into account when working with Panel.\n",
    "\n",
    "- You have to install panel and other modules every time again in your notebook with `!pip install panel`, `!pip install vega`, etc.\n",
    "- Whereas you only have to write `pn.extension()` once in a jupyter notebook, you have to do this in every cell in Colaboratory in which you use `Panel`.\n",
    "- You can’t use the `.show()` method in Colaboratory (see below)."
   ]
  },
  {
   "cell_type": "markdown",
   "metadata": {
    "heading_collapsed": true
   },
   "source": [
    "# Panel layout"
   ]
  },
  {
   "cell_type": "markdown",
   "metadata": {
    "hidden": true
   },
   "source": [
    "To combine different plots in vega, we needed to create a `layout` with a `marks` section which itself contained other `marks` (see [here](https://vda-lab.github.io/visualisation-tutorial/vega-composing-plots.html)). Something like this:\n",
    "```json\n",
    "...\n",
    "\"layout\": {\"padding\": 20},\n",
    "  \"marks\": [\n",
    "    {\n",
    "      \"type\": \"group\",\n",
    "      \"encode\": {\n",
    "        \"update\": {\n",
    "          \"width\": {\"value\": 200},\n",
    "          \"height\": {\"value\": 200}\n",
    "        }\n",
    "      },\n",
    "      \"marks\": [\n",
    "        {\n",
    "          \"type\": \"symbol\",\n",
    "          ...\n",
    "        }\n",
    "      ],\n",
    "      \"axes\": [\n",
    "        ...\n",
    "      ]\n",
    "    },\n",
    "    {\n",
    "      \"type\": \"group\",\n",
    "      \"style\": \"cell\",\n",
    "      \"encode\": {\n",
    "        \"update\": {\n",
    "          \"width\":  {\"value\": 200},\n",
    "          \"height\": {\"value\": 200}\n",
    "        }\n",
    "      },\n",
    "      \"marks\": [\n",
    "        {\n",
    "          \"type\": \"symbol\",\n",
    "          ...\n",
    "        }\n",
    "      ],\n",
    "      \"axes\": [\n",
    "        ...\n",
    "      ]\n",
    "    }\n",
    "  ]\n",
    "}\n",
    "...\n",
    "```\n",
    "It’s not easy to keep an overview of what’s going on here, but panel makes things much more clear. We can layout different panes into a panel with rows, columns or tabs with `pn.Column()`, `pn.Row()` and `pn.Tabs()`, respectively. For example:"
   ]
  },
  {
   "cell_type": "code",
   "execution_count": null,
   "metadata": {
    "hidden": true
   },
   "outputs": [],
   "source": [
    "pn.Column(pn.pane.Markdown(\"# My title\"),\n",
    "          pn.pane.Markdown(\"Some text\"))"
   ]
  },
  {
   "cell_type": "markdown",
   "metadata": {
    "hidden": true
   },
   "source": [
    "We can make the layout more complex by combining different tags:"
   ]
  },
  {
   "cell_type": "code",
   "execution_count": null,
   "metadata": {
    "hidden": true
   },
   "outputs": [],
   "source": [
    "pn.Column(pn.pane.Markdown(\"# My title\"),\n",
    "          pn.Row(pn.pane.Markdown(\"Some text\"),\n",
    "                 pn.pane.Markdown(\"Some other text\")))"
   ]
  },
  {
   "cell_type": "markdown",
   "metadata": {
    "hidden": true
   },
   "source": [
    "…and combining different types of panes:"
   ]
  },
  {
   "cell_type": "code",
   "execution_count": null,
   "metadata": {
    "hidden": true
   },
   "outputs": [],
   "source": [
    "pn.Column(pn.pane.Markdown(\"# My title\"),\n",
    "          pn.Row(pn.pane.Markdown(\"The first hit when I search google images for the text 'panel'\"),\n",
    "                 pn.pane.JPG(\"https://5.imimg.com/data5/PA/LN/MY-13921/dol-starter-panel-500x500.jpg\")))"
   ]
  },
  {
   "cell_type": "markdown",
   "metadata": {
    "hidden": true
   },
   "source": [
    "_Exercise - Try out different layouts, including tabs_"
   ]
  },
  {
   "cell_type": "markdown",
   "metadata": {
    "heading_collapsed": true
   },
   "source": [
    "# Panel is reactive"
   ]
  },
  {
   "cell_type": "markdown",
   "metadata": {
    "hidden": true
   },
   "source": [
    "One of the strong points of panel is that is reactive. As we described in the vega tutorial, in a reactive program any change in a variable will automatically be reflected in other variables that depend on it.\n",
    "\n",
    "Let’s create a small panel with a title and a bit of text:"
   ]
  },
  {
   "cell_type": "code",
   "execution_count": null,
   "metadata": {
    "hidden": true
   },
   "outputs": [],
   "source": [
    "title = pn.pane.Markdown(\"# This is my title\")\n",
    "text = pn.pane.Markdown(\"This is the text\")\n",
    "pn.Column(title, text)"
   ]
  },
  {
   "cell_type": "markdown",
   "metadata": {
    "hidden": true
   },
   "source": [
    "The `title` variable is much more than just a bit of text. You can see that if you check what methods are available on it: write `title.` (with the period) and try tab-completion. Calling `title.object` will give you the text contained in the variable: `# This is my title`."
   ]
  },
  {
   "cell_type": "code",
   "execution_count": null,
   "metadata": {
    "hidden": true
   },
   "outputs": [],
   "source": [
    "title.object"
   ]
  },
  {
   "cell_type": "markdown",
   "metadata": {
    "hidden": true
   },
   "source": [
    "We can use that to change the text. When running the next code block, check what is happening to the text above:"
   ]
  },
  {
   "cell_type": "code",
   "execution_count": null,
   "metadata": {
    "hidden": true
   },
   "outputs": [],
   "source": [
    "title.object = \"# Title is changed!\""
   ]
  },
  {
   "cell_type": "markdown",
   "metadata": {
    "hidden": true
   },
   "source": [
    "As you can see the title in the output above is automatically changed from `This is my title` to `Title is changed!`. So you don’t have to re-run cells in the notebook to update their output, and any data streams will be dynamically reflected."
   ]
  },
  {
   "cell_type": "markdown",
   "metadata": {
    "heading_collapsed": true
   },
   "source": [
    "# Panel and vega"
   ]
  },
  {
   "cell_type": "markdown",
   "metadata": {
    "hidden": true
   },
   "source": [
    "So let’s finally combine Panel with Vega. As for creating a pane with markdown text or a figure, we can use `pn.pane.Vega()` and give it a specification."
   ]
  },
  {
   "cell_type": "code",
   "execution_count": null,
   "metadata": {
    "hidden": true
   },
   "outputs": [],
   "source": [
    "import panel as pn\n",
    "from vega import Vega\n",
    "pn.extension('vega')\n",
    "\n",
    "spec = {\n",
    "    \"$schema\": \"https://vega.github.io/schema/vega-lite/v4.json\",\n",
    "    \"description\": \"A simple bar chart with embedded data.\",\n",
    "    \"width\": 200,\n",
    "    \"height\": 100,\n",
    "    \"data\": {\n",
    "      \"values\": [\n",
    "        {\"a\": \"A\", \"b\": 28},\n",
    "        {\"a\": \"B\", \"b\": 55},\n",
    "        {\"a\": \"C\", \"b\": 43},\n",
    "        {\"a\": \"D\", \"b\": 91}\n",
    "      ]\n",
    "    },\n",
    "    \"mark\": \"bar\",\n",
    "    \"encoding\": {\n",
    "      \"x\": {\"field\": \"b\", \"type\": \"quantitative\"},\n",
    "      \"y\": {\"field\": \"a\", \"type\": \"nominal\"}\n",
    "    }\n",
    "  }\n",
    "pn.pane.Vega(spec)"
   ]
  },
  {
   "cell_type": "markdown",
   "metadata": {
    "hidden": true
   },
   "source": [
    "Now we can combine this with other panes. In the Vega and VegaLite tutorials, we defined the title within the specification itself. Now, instead, we can define it outside:"
   ]
  },
  {
   "cell_type": "code",
   "execution_count": null,
   "metadata": {
    "hidden": true
   },
   "outputs": [],
   "source": [
    "pn.Column(pn.pane.Markdown(\"# This is a horizontal barchart\"),\n",
    "          pn.Row(\n",
    "                 pn.panel(\"This barchart with 4 categories shows us how we can combine different panes, including vega plots\"),\n",
    "                 pn.pane.Vega(spec)\n",
    "\n",
    "          ))"
   ]
  },
  {
   "cell_type": "markdown",
   "metadata": {
    "hidden": true
   },
   "source": [
    "Or we can combine two plots:"
   ]
  },
  {
   "cell_type": "code",
   "execution_count": null,
   "metadata": {
    "hidden": true
   },
   "outputs": [],
   "source": [
    "pn.Column(pn.pane.Markdown(\"# These are two horizontal barcharts\"),\n",
    "          pn.Row(\n",
    "                 pn.pane.Vega(spec),\n",
    "                 pn.pane.Vega(spec)\n",
    "\n",
    "          ))"
   ]
  },
  {
   "cell_type": "markdown",
   "metadata": {
    "hidden": true
   },
   "source": [
    "By the way, do not forget to specify width and height of the plot, because panel cannot deduce that automatically. If you forget to do so, you’ll get overlapping panels like this:"
   ]
  },
  {
   "cell_type": "code",
   "execution_count": null,
   "metadata": {
    "hidden": true
   },
   "outputs": [],
   "source": [
    "spec2 = {\n",
    "    \"$schema\": \"https://vega.github.io/schema/vega-lite/v4.json\",\n",
    "    \"description\": \"A simple bar chart with embedded data.\",\n",
    "    \"width\": 200,\n",
    "    \"data\": {\n",
    "      \"values\": [\n",
    "        {\"a\": \"A\", \"b\": 28},\n",
    "        {\"a\": \"B\", \"b\": 55},\n",
    "        {\"a\": \"C\", \"b\": 43},\n",
    "        {\"a\": \"D\", \"b\": 91}\n",
    "      ]\n",
    "    },\n",
    "    \"mark\": \"bar\",\n",
    "    \"encoding\": {\n",
    "      \"x\": {\"field\": \"b\", \"type\": \"quantitative\"},\n",
    "      \"y\": {\"field\": \"a\", \"type\": \"nominal\"}\n",
    "    }\n",
    "  }\n",
    "pn.pane.Vega(spec2)"
   ]
  },
  {
   "cell_type": "markdown",
   "metadata": {
    "heading_collapsed": true
   },
   "source": [
    "# Sharing dashboards"
   ]
  },
  {
   "cell_type": "markdown",
   "metadata": {
    "hidden": true
   },
   "source": [
    "Panel has another neat trick: it can create a dashboard that is separate from the whole jupyter notebook interface.\n",
    "\n",
    "In the previous section, we created a dashboard with a title, some text and a plot. However, this code is embedded in the rest of the notebook. Obviously, this is good enough if we’re still in the developing phase or or exploring data yourself, but you might want to let other people see the visuals as well."
   ]
  },
  {
   "cell_type": "markdown",
   "metadata": {
    "hidden": true
   },
   "source": [
    "## Sharing on your own computer"
   ]
  },
  {
   "cell_type": "markdown",
   "metadata": {
    "hidden": true
   },
   "source": [
    "Nothing could be simpler: just by add `.show()` to the code above, jupyter notebook opens a new window with just this dashboard."
   ]
  },
  {
   "cell_type": "code",
   "execution_count": null,
   "metadata": {
    "hidden": true
   },
   "outputs": [],
   "source": [
    "pn.Column(pn.pane.Markdown(\"# This is a horizontal barchart\"),\n",
    "          pn.Row(\n",
    "                 pn.panel(\"This barchart with 4 categories shows us how we can combine different panes, including vega plots\"),\n",
    "                 pn.pane.Vega(spec)\n",
    "          )).show()"
   ]
  },
  {
   "cell_type": "markdown",
   "metadata": {
    "hidden": true
   },
   "source": [
    "This starts a new notebook process on your computer and opens a new browser tab with just the dashboard."
   ]
  },
  {
   "cell_type": "markdown",
   "metadata": {
    "hidden": true
   },
   "source": [
    "## More permanently\n",
    "In some cases, however, you want to make the dashboard available to a bigger group of people and just want to have it run on some server. In that case we cannot run the notebook interactively and use another solution.\n",
    "\n",
    "This is a two-step process:\n",
    "\n",
    "- Instead of `.show()`, call the method `.servable()` on the dashboard that you want to make available. This will not do anything while you are still in the notebook.\n",
    "- When you have saved the notebook, run `panel serve --show my_notebook.ipynb` on the command line. This will run the complete jupyter notebook in the backend, take the dashboard that can be identified with the `.servable()` method, and create a new interface.\n",
    "\n",
    "This is the output when I run this command:\n",
    "\n",
    "![panel serve](https://vda-lab.github.io/visualisation-tutorial/assets/holoviz-servable.png)"
   ]
  },
  {
   "cell_type": "markdown",
   "metadata": {
    "hidden": true
   },
   "source": [
    "This output shows us that the dashboard is running on http://localhost:5006/minimal_vega where other people can access it (obviously replace localhost with the correct IP number).\n",
    "\n",
    "If you have `.servable()` on more than one dashboard, these will all be included."
   ]
  },
  {
   "cell_type": "markdown",
   "metadata": {
    "heading_collapsed": true
   },
   "source": [
    "# Linking widgets to visuals"
   ]
  },
  {
   "cell_type": "markdown",
   "metadata": {
    "hidden": true
   },
   "source": [
    "With what we’ve learned so far we can create dashboards that contain different graphics, bits of text, etc. But we weren’t able yet to link these things together. That’s what we’ll do here."
   ]
  },
  {
   "cell_type": "markdown",
   "metadata": {
    "hidden": true
   },
   "source": [
    "## A single widget"
   ]
  },
  {
   "cell_type": "markdown",
   "metadata": {
    "hidden": true
   },
   "source": [
    "As a very first example, we’ll create our simple barchart again, but include a colour picker so that we can change the colour of the bars. Notice that the vega part is exactly what we had before, except for the fact that we also define the color."
   ]
  },
  {
   "cell_type": "code",
   "execution_count": null,
   "metadata": {
    "hidden": true
   },
   "outputs": [],
   "source": [
    "colour_picker = pn.widgets.ColorPicker(value=\"#4682b4\")\n",
    "colour_picker.width = 50\n",
    "\n",
    "@pn.depends(colour_picker.param.value)\n",
    "def plot(value):\n",
    "    return pn.pane.Vega({\n",
    "        \"$schema\": \"https://vega.github.io/schema/vega-lite/v4.json\",\n",
    "        \"description\": \"A simple bar chart with embedded data.\",\n",
    "        \"height\": 100,\n",
    "        \"data\": {\n",
    "          \"values\": [\n",
    "            {\"a\": \"A\", \"b\": 28},\n",
    "            {\"a\": \"B\", \"b\": 55},\n",
    "            {\"a\": \"C\", \"b\": 43},\n",
    "            {\"a\": \"D\", \"b\": 91}\n",
    "          ]\n",
    "        },\n",
    "        \"mark\": \"bar\",\n",
    "        \"encoding\": {\n",
    "          \"x\": {\"field\": \"b\", \"type\": \"quantitative\"},\n",
    "          \"y\": {\"field\": \"a\", \"type\": \"nominal\"},\n",
    "          \"color\": {\"value\": value}\n",
    "        }\n",
    "      })\n",
    "pn.Row(colour_picker, plot)"
   ]
  },
  {
   "cell_type": "markdown",
   "metadata": {
    "hidden": true
   },
   "source": [
    "We create a `pn.Row()` with the `colour_picker` and the plot. How did we make this work?\n",
    "\n",
    "- The `colour_picker` is a ColorPicker widget. Again, for the complete list of all 30 available widgets, check the panel documentation at https://panel.holoviz.org/user_guide/Widgets.html.\n",
    "- Instead of just creating the spec as a JSON object, we now create a _function_ (called `plot`) that returns such JSON.\n",
    "- We need to _decorate_ the plot function so that the function is re-run every time a new colour is chosen. We do this with `@pn.depends(colour_picker.param.value)`. When that `colour_picker.param.value` changes, it will be passed as the first argument to the `plot` function.\n",
    "- We replaced the actual colour in the specification with `value` which is the name of the first (and only) argument to the function.\n",
    "\n",
    "From the sci-py lecture notes on decorators:\n",
    "```\n",
    "Since functions and classes are objects, they can be passed around. Since they are mutable objects, they can be modified. The act of altering a function or class object after it has been constructed but before it is bound to its name is called decorating.\n",
    "\n",
    "There are two things hiding behind the name \"decorator\" — one is the function which does the work of decorating, i.e. performs the real work, and the other one is the expression adhering to the decorator syntax, i.e. an at-symbol and the name of the decorating function.\n",
    "\n",
    "Function can be decorated by using the decorator syntax for functions:\n",
    "\n",
    "@decorator             # ②\n",
    "def function():        # ①\n",
    "    pass\n",
    "\n",
    "A function is defined in the standard way. ①\n",
    "An expression starting with @ placed before the function definition is the decorator ②. The part after @ must be a simple expression, usually this is just the name of a function or class. This part is evaluated first, and after the function defined below is ready, the decorator is called with the newly defined function object as the single argument. The value returned by the decorator is attached to the original name of the function.\n",
    "```"
   ]
  },
  {
   "cell_type": "markdown",
   "metadata": {
    "hidden": true
   },
   "source": [
    "Note: if you get the error Vega pane does not support objects of type 'dict', make sure you added the schema to your JSON spec: `\"$schema\": \"https://vega.github.io/schema/vega-lite/v4.json\"`."
   ]
  },
  {
   "cell_type": "markdown",
   "metadata": {
    "hidden": true
   },
   "source": [
    "## Multiple widgets"
   ]
  },
  {
   "cell_type": "markdown",
   "metadata": {
    "hidden": true
   },
   "source": [
    "The above is just with one parameter, but we can use more than one. Let’s say we want to also be able to change the width of the plot. We can create a new IntSlider widget, whose value we will use for the width section in the specification."
   ]
  },
  {
   "cell_type": "code",
   "execution_count": null,
   "metadata": {
    "hidden": true
   },
   "outputs": [],
   "source": [
    "colour_picker = pn.widgets.ColorPicker(value=\"#4682b4\")\n",
    "slider_value = pn.widgets.IntSlider(start = 100, end = 500)\n",
    "\n",
    "@pn.depends(slider_value.param.value, colour_picker.param.value)\n",
    "def plot(slider, colour):\n",
    "    return pn.pane.Vega({\n",
    "        \"$schema\": \"https://vega.github.io/schema/vega-lite/v4.json\",\n",
    "        \"description\": \"A simple bar chart with embedded data.\",\n",
    "        \"height\": 100,\n",
    "        \"width\": slider,\n",
    "        \"data\": {\n",
    "          \"values\": [\n",
    "            {\"a\": \"A\", \"b\": 48},\n",
    "            {\"a\": \"B\", \"b\": 55},\n",
    "            {\"a\": \"C\", \"b\": 43},\n",
    "            {\"a\": \"D\", \"b\": 91}\n",
    "          ]\n",
    "        },\n",
    "        \"mark\": \"bar\",\n",
    "        \"encoding\": {\n",
    "          \"x\": {\"field\": \"b\", \"type\": \"quantitative\"},\n",
    "          \"y\": {\"field\": \"a\", \"type\": \"nominal\"},\n",
    "          \"color\": {\"value\": colour}\n",
    "        }\n",
    "      })\n",
    "pn.Row(pn.Column(slider_value,colour_picker), plot)"
   ]
  },
  {
   "cell_type": "markdown",
   "metadata": {
    "hidden": true
   },
   "source": [
    "## Actual useful interaction"
   ]
  },
  {
   "cell_type": "markdown",
   "metadata": {
    "hidden": true
   },
   "source": [
    "In the VegaLite tutorial at http:///visualisation-tutorial/vegalite-using-widgets-for-selection.html, we saw how we can define widgets within the specification to select subsets of the data. Let’s try and do the same with HoloViz widgets.\n",
    "\n",
    "What we had there:\n",
    "```json\n",
    "{\n",
    "  \"title\": \"Making selections\",\n",
    "  \"data\": {\n",
    "    \"url\": \"https://raw.githubusercontent.com/vega/vega/master/docs/data/cars.json\"\n",
    "  },\n",
    "  \"selection\": {\n",
    "    \"my_selection\": {\n",
    "      \"type\": \"single\",\n",
    "      \"fields\": [\"Origin\"],\n",
    "      \"bind\": {\"input\": \"select\", \"options\": [null, \"Europe\", \"Japan\", \"USA\"]}\n",
    "    }\n",
    "  },\n",
    "  \"mark\": \"circle\",\n",
    "  \"encoding\": {\n",
    "    \"x\": {\"field\": \"Acceleration\", \"type\": \"quantitative\"},\n",
    "    \"y\": {\"field\": \"Miles_per_Gallon\", \"type\": \"quantitative\"},\n",
    "    \"color\": {\n",
    "      \"condition\": {\n",
    "        \"selection\": \"my_selection\",\n",
    "        \"value\": \"red\"\n",
    "      },\n",
    "      \"value\": \"lightgrey\"\n",
    "    }\n",
    "  }\n",
    "}\n",
    "```"
   ]
  },
  {
   "cell_type": "markdown",
   "metadata": {
    "hidden": true
   },
   "source": [
    "We can remove the `selection` section in the specification and replace `\"selection\": \"my_selection\"` with a test to obtain the following:"
   ]
  },
  {
   "cell_type": "code",
   "execution_count": null,
   "metadata": {
    "hidden": true
   },
   "outputs": [],
   "source": [
    "origin_picker = pn.widgets.Select(name=\"Origin\", options=['USA','Europe','Japan'])\n",
    "@pn.depends(origin_picker.param.value)\n",
    "def plot2(origin):\n",
    "    return pn.pane.Vega({\n",
    "      \"$schema\": \"https://vega.github.io/schema/vega-lite/v4.json\",\n",
    "      \"height\": 200,\n",
    "      \"title\": \"Making selections\",\n",
    "      \"data\": {\n",
    "        \"url\": \"https://raw.githubusercontent.com/vega/vega/master/docs/data/cars.json\"\n",
    "      },\n",
    "      \"mark\": \"circle\",\n",
    "      \"encoding\": {\n",
    "        \"x\": {\"field\": \"Acceleration\", \"type\": \"quantitative\"},\n",
    "        \"y\": {\"field\": \"Miles_per_Gallon\", \"type\": \"quantitative\"},\n",
    "        \"color\": {\n",
    "          \"condition\": {\n",
    "            \"test\": \"datum['Origin'] == '\" + origin + \"'\",\n",
    "            \"value\": \"red\"\n",
    "          },\n",
    "          \"value\": \"lightgrey\"\n",
    "        }\n",
    "      }\n",
    "    })\n",
    "pn.Row(origin_picker, plot2)"
   ]
  },
  {
   "cell_type": "markdown",
   "metadata": {
    "hidden": true
   },
   "source": [
    "Exercise - Change the last panel so that you can choose what should be put on the y-axis. Possible field names are: “Miles_per_Gallon”, “Displacement”, “Horsepower” or “Weight_in_lbs”. Make sure to use the correct case for these fields! The output should look similar to this:\n",
    "<img src=\"https://vda-lab.github.io/visualisation-tutorial/assets/holoviz-widget-exercise.png\" width=\"400\"/>"
   ]
  },
  {
   "cell_type": "code",
   "execution_count": null,
   "metadata": {
    "hidden": true
   },
   "outputs": [],
   "source": [
    "## Your code for the above exercise goes here"
   ]
  },
  {
   "cell_type": "markdown",
   "metadata": {
    "hidden": true
   },
   "source": [
    "Exercise - Now also add a threshold slider for horsepower (minimum value is 40 and maximum value is 240). Any car with more horsepower than that threshold should be made bigger. The output should look similar to this:\n",
    "\n",
    "<img src=\"https://vda-lab.github.io/visualisation-tutorial/assets/holoviz-widget-exercise2.png\" width=\"400\"/>"
   ]
  },
  {
   "cell_type": "code",
   "execution_count": null,
   "metadata": {
    "hidden": true
   },
   "outputs": [],
   "source": [
    "## Your code for the above exercise goes here"
   ]
  },
  {
   "cell_type": "markdown",
   "metadata": {
    "hidden": true
   },
   "source": [
    "Here’s another example using the Miserables dataset:"
   ]
  },
  {
   "cell_type": "code",
   "execution_count": null,
   "metadata": {
    "hidden": true
   },
   "outputs": [],
   "source": [
    "group_picker = pn.widgets.Select(name=\"Select group\", options=[0,1,2,3,4,5,6,7,8], width=50)\n",
    "\n",
    "@pn.depends(group_picker.param.value)\n",
    "def plot(gr):\n",
    "    return pn.pane.Vega({\n",
    "      \"$schema\": \"https://vega.github.io/schema/vega/v5.json\",\n",
    "      \"width\": 400,\n",
    "      \"height\": 275,\n",
    "      \"padding\": 0,\n",
    "      \"autosize\": \"none\",\n",
    "\n",
    "      \"signals\": [\n",
    "        { \"name\": \"cx\", \"update\": \"width / 2\" },\n",
    "        { \"name\": \"cy\", \"update\": \"height / 2\" },\n",
    "        {\n",
    "          \"description\": \"State variable for active node dragged status.\",\n",
    "          \"name\": \"dragged\", \"value\": 0,\n",
    "          \"on\": [\n",
    "            {\n",
    "              \"events\": \"symbol:mouseout[!event.buttons], window:mouseup\",\n",
    "              \"update\": \"0\"\n",
    "            },\n",
    "            {\n",
    "              \"events\": \"symbol:mouseover\",\n",
    "              \"update\": \"dragged || 1\"\n",
    "            },\n",
    "            {\n",
    "              \"events\": \"[symbol:mousedown, window:mouseup] > window:mousemove!\",\n",
    "              \"update\": \"2\", \"force\": True\n",
    "            }\n",
    "          ]\n",
    "        },\n",
    "        {\n",
    "          \"description\": \"Graph node most recently interacted with.\",\n",
    "          \"name\": \"dragged_node\", \"value\": None,\n",
    "          \"on\": [\n",
    "            {\n",
    "              \"events\": \"symbol:mouseover\",\n",
    "              \"update\": \"dragged === 1 ? item() : dragged_node\"\n",
    "            }\n",
    "          ]\n",
    "        },\n",
    "        {\n",
    "          \"description\": \"Flag to restart Force simulation upon data changes.\",\n",
    "          \"name\": \"restart\", \"value\": False,\n",
    "          \"on\": [\n",
    "            {\"events\": {\"signal\": \"dragged\"}, \"update\": \"dragged > 1\"}\n",
    "          ]\n",
    "        }\n",
    "      ],\n",
    "\n",
    "      \"data\": [\n",
    "        {\n",
    "          \"name\": \"node-data\",\n",
    "          \"url\": \"https://raw.githubusercontent.com/vega/vega-datasets/master/data/miserables.json\",\n",
    "          \"format\": {\"type\": \"json\", \"property\": \"nodes\"}\n",
    "        },\n",
    "        {\n",
    "          \"name\": \"link-data\",\n",
    "          \"url\": \"https://raw.githubusercontent.com/vega/vega-datasets/master/data/miserables.json\",\n",
    "          \"format\": {\"type\": \"json\", \"property\": \"links\"}\n",
    "        }\n",
    "      ],\n",
    "\n",
    "      \"marks\": [\n",
    "        {\n",
    "          \"name\": \"nodes\",\n",
    "          \"type\": \"symbol\",\n",
    "          \"zindex\": 1,\n",
    "\n",
    "          \"from\": {\"data\": \"node-data\"},\n",
    "          \"on\": [\n",
    "            {\n",
    "              \"trigger\": \"dragged\",\n",
    "              \"modify\": \"dragged_node\",\n",
    "              \"values\": \"dragged === 1 ? {fx:dragged_node.x, fy:dragged_node.y} : {fx:x(), fy:y()}\"\n",
    "            },\n",
    "            {\n",
    "              \"trigger\": \"!dragged\",\n",
    "              \"modify\": \"dragged_node\", \"values\": \"{fx: null, fy: null}\"\n",
    "            }\n",
    "          ],\n",
    "\n",
    "          \"encode\": {\n",
    "            \"enter\": {\n",
    "              \"fill\": [\n",
    "                { \"test\": \"datum.group == \" + str(gr),\n",
    "                  \"value\": \"red\"},\n",
    "                {\"value\": \"lightgrey\"}\n",
    "              ]\n",
    "            },\n",
    "            \"update\": {\n",
    "              \"size\": {\"value\": 50},\n",
    "              \"cursor\": {\"value\": \"pointer\"}\n",
    "            }\n",
    "          },\n",
    "\n",
    "          \"transform\": [\n",
    "            {\n",
    "              \"type\": \"force\",\n",
    "              \"iterations\": 300,\n",
    "              \"velocityDecay\": 0.4,\n",
    "              \"restart\": {\"signal\": \"restart\"},\n",
    "              \"static\": False,\n",
    "              \"forces\": [\n",
    "                {\"force\": \"center\", \"x\": {\"signal\": \"cx\"}, \"y\": {\"signal\": \"cy\"}},\n",
    "                {\"force\": \"collide\", \"radius\": 5},\n",
    "                {\"force\": \"nbody\", \"strength\": -10},\n",
    "                {\"force\": \"link\", \"links\": \"link-data\", \"distance\": 15}\n",
    "              ]\n",
    "            }\n",
    "          ]\n",
    "        },\n",
    "        {\n",
    "          \"type\": \"path\",\n",
    "          \"from\": {\"data\": \"link-data\"},\n",
    "          \"interactive\": False,\n",
    "          \"encode\": {\n",
    "            \"update\": {\n",
    "              \"stroke\": {\"value\": \"lightgrey\"}\n",
    "            }\n",
    "          },\n",
    "          \"transform\": [\n",
    "            {\n",
    "              \"type\": \"linkpath\", \"shape\": \"line\",\n",
    "              \"sourceX\": \"datum.source.x\", \"sourceY\": \"datum.source.y\",\n",
    "              \"targetX\": \"datum.target.x\", \"targetY\": \"datum.target.y\"\n",
    "            }\n",
    "          ]\n",
    "        }\n",
    "      ]\n",
    "    })\n",
    "pn.Column(pn.pane.Markdown(\"## Highlighting Miserables dataset based on group\"),\n",
    "          pn.Row(group_picker, plot))"
   ]
  },
  {
   "cell_type": "code",
   "execution_count": null,
   "metadata": {
    "hidden": true
   },
   "outputs": [],
   "source": []
  }
 ],
 "metadata": {
  "kernelspec": {
   "display_name": "Python 3",
   "language": "python",
   "name": "python3"
  },
  "language_info": {
   "codemirror_mode": {
    "name": "ipython",
    "version": 3
   },
   "file_extension": ".py",
   "mimetype": "text/x-python",
   "name": "python",
   "nbconvert_exporter": "python",
   "pygments_lexer": "ipython3",
   "version": "3.7.1"
  }
 },
 "nbformat": 4,
 "nbformat_minor": 2
}
